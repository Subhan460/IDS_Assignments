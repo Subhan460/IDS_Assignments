{
  "nbformat": 4,
  "nbformat_minor": 0,
  "metadata": {
    "colab": {
      "provenance": [],
      "authorship_tag": "ABX9TyOJIXrFHJ34v4W3aTt+b/xw",
      "include_colab_link": true
    },
    "kernelspec": {
      "name": "python3",
      "display_name": "Python 3"
    },
    "language_info": {
      "name": "python"
    }
  },
  "cells": [
    {
      "cell_type": "markdown",
      "metadata": {
        "id": "view-in-github",
        "colab_type": "text"
      },
      "source": [
        "<a href=\"https://colab.research.google.com/github/Subhan460/IDS_Assignments/blob/main/Drone_Python_Code.ipynb\" target=\"_parent\"><img src=\"https://colab.research.google.com/assets/colab-badge.svg\" alt=\"Open In Colab\"/></a>"
      ]
    },
    {
      "cell_type": "code",
      "execution_count": 1,
      "metadata": {
        "colab": {
          "base_uri": "https://localhost:8080/"
        },
        "id": "RlZQdd5Rz5nc",
        "outputId": "85813e0d-dda9-420f-d992-de151542e84b"
      },
      "outputs": [
        {
          "output_type": "stream",
          "name": "stdout",
          "text": [
            "Looking in indexes: https://pypi.org/simple, https://us-python.pkg.dev/colab-wheels/public/simple/\n",
            "Collecting geopandas\n",
            "  Downloading geopandas-0.10.2-py2.py3-none-any.whl (1.0 MB)\n",
            "\u001b[K     |████████████████████████████████| 1.0 MB 5.1 MB/s \n",
            "\u001b[?25hCollecting fiona>=1.8\n",
            "  Downloading Fiona-1.8.22-cp37-cp37m-manylinux2014_x86_64.whl (16.7 MB)\n",
            "\u001b[K     |████████████████████████████████| 16.7 MB 49.6 MB/s \n",
            "\u001b[?25hRequirement already satisfied: shapely>=1.6 in /usr/local/lib/python3.7/dist-packages (from geopandas) (1.8.5.post1)\n",
            "Collecting pyproj>=2.2.0\n",
            "  Downloading pyproj-3.2.1-cp37-cp37m-manylinux2010_x86_64.whl (6.3 MB)\n",
            "\u001b[K     |████████████████████████████████| 6.3 MB 41.1 MB/s \n",
            "\u001b[?25hRequirement already satisfied: pandas>=0.25.0 in /usr/local/lib/python3.7/dist-packages (from geopandas) (1.3.5)\n",
            "Collecting cligj>=0.5\n",
            "  Downloading cligj-0.7.2-py3-none-any.whl (7.1 kB)\n",
            "Requirement already satisfied: six>=1.7 in /usr/local/lib/python3.7/dist-packages (from fiona>=1.8->geopandas) (1.15.0)\n",
            "Collecting munch\n",
            "  Downloading munch-2.5.0-py2.py3-none-any.whl (10 kB)\n",
            "Requirement already satisfied: click>=4.0 in /usr/local/lib/python3.7/dist-packages (from fiona>=1.8->geopandas) (7.1.2)\n",
            "Requirement already satisfied: attrs>=17 in /usr/local/lib/python3.7/dist-packages (from fiona>=1.8->geopandas) (22.1.0)\n",
            "Requirement already satisfied: certifi in /usr/local/lib/python3.7/dist-packages (from fiona>=1.8->geopandas) (2022.9.24)\n",
            "Requirement already satisfied: setuptools in /usr/local/lib/python3.7/dist-packages (from fiona>=1.8->geopandas) (57.4.0)\n",
            "Collecting click-plugins>=1.0\n",
            "  Downloading click_plugins-1.1.1-py2.py3-none-any.whl (7.5 kB)\n",
            "Requirement already satisfied: python-dateutil>=2.7.3 in /usr/local/lib/python3.7/dist-packages (from pandas>=0.25.0->geopandas) (2.8.2)\n",
            "Requirement already satisfied: numpy>=1.17.3 in /usr/local/lib/python3.7/dist-packages (from pandas>=0.25.0->geopandas) (1.21.6)\n",
            "Requirement already satisfied: pytz>=2017.3 in /usr/local/lib/python3.7/dist-packages (from pandas>=0.25.0->geopandas) (2022.4)\n",
            "Installing collected packages: munch, cligj, click-plugins, pyproj, fiona, geopandas\n",
            "Successfully installed click-plugins-1.1.1 cligj-0.7.2 fiona-1.8.22 geopandas-0.10.2 munch-2.5.0 pyproj-3.2.1\n"
          ]
        }
      ],
      "source": [
        "!pip install geopandas"
      ]
    },
    {
      "cell_type": "code",
      "source": [
        "!pip install mapclassify"
      ],
      "metadata": {
        "colab": {
          "base_uri": "https://localhost:8080/"
        },
        "id": "Rj93WVSL0Bfz",
        "outputId": "33c610b4-8b82-40ce-903e-e57323d49a4e"
      },
      "execution_count": 2,
      "outputs": [
        {
          "output_type": "stream",
          "name": "stdout",
          "text": [
            "Looking in indexes: https://pypi.org/simple, https://us-python.pkg.dev/colab-wheels/public/simple/\n",
            "Collecting mapclassify\n",
            "  Downloading mapclassify-2.4.3-py3-none-any.whl (38 kB)\n",
            "Requirement already satisfied: networkx in /usr/local/lib/python3.7/dist-packages (from mapclassify) (2.6.3)\n",
            "Requirement already satisfied: numpy>=1.3 in /usr/local/lib/python3.7/dist-packages (from mapclassify) (1.21.6)\n",
            "Requirement already satisfied: pandas>=1.0 in /usr/local/lib/python3.7/dist-packages (from mapclassify) (1.3.5)\n",
            "Requirement already satisfied: scipy>=1.0 in /usr/local/lib/python3.7/dist-packages (from mapclassify) (1.7.3)\n",
            "Requirement already satisfied: scikit-learn in /usr/local/lib/python3.7/dist-packages (from mapclassify) (1.0.2)\n",
            "Requirement already satisfied: python-dateutil>=2.7.3 in /usr/local/lib/python3.7/dist-packages (from pandas>=1.0->mapclassify) (2.8.2)\n",
            "Requirement already satisfied: pytz>=2017.3 in /usr/local/lib/python3.7/dist-packages (from pandas>=1.0->mapclassify) (2022.4)\n",
            "Requirement already satisfied: six>=1.5 in /usr/local/lib/python3.7/dist-packages (from python-dateutil>=2.7.3->pandas>=1.0->mapclassify) (1.15.0)\n",
            "Requirement already satisfied: joblib>=0.11 in /usr/local/lib/python3.7/dist-packages (from scikit-learn->mapclassify) (1.2.0)\n",
            "Requirement already satisfied: threadpoolctl>=2.0.0 in /usr/local/lib/python3.7/dist-packages (from scikit-learn->mapclassify) (3.1.0)\n",
            "Installing collected packages: mapclassify\n",
            "Successfully installed mapclassify-2.4.3\n"
          ]
        }
      ]
    },
    {
      "cell_type": "code",
      "source": [
        "import geopandas as gpd\n",
        "import pandas as pd"
      ],
      "metadata": {
        "id": "Sn5dfeEc0Bia"
      },
      "execution_count": 3,
      "outputs": []
    },
    {
      "cell_type": "code",
      "source": [
        "from google.colab import drive\n",
        "drive.mount('/content/drive')"
      ],
      "metadata": {
        "colab": {
          "base_uri": "https://localhost:8080/"
        },
        "id": "aExYmD6r0BlQ",
        "outputId": "d33b7e40-62a9-4849-d397-87cf3fd74393"
      },
      "execution_count": 4,
      "outputs": [
        {
          "output_type": "stream",
          "name": "stdout",
          "text": [
            "Mounted at /content/drive\n"
          ]
        }
      ]
    },
    {
      "cell_type": "code",
      "source": [
        "from inspect import CO_ITERABLE_COROUTINE"
      ],
      "metadata": {
        "id": "GVcYCYQw0BoQ"
      },
      "execution_count": 5,
      "outputs": []
    },
    {
      "cell_type": "code",
      "source": [
        "df = pd.read_csv('/content/drive/My Drive/Drone-Data.csv')\n"
      ],
      "metadata": {
        "id": "UtFphY1B0Bqf"
      },
      "execution_count": 6,
      "outputs": []
    },
    {
      "cell_type": "code",
      "source": [
        "import folium\n"
      ],
      "metadata": {
        "id": "bR4y_OoW0BtR"
      },
      "execution_count": 8,
      "outputs": []
    },
    {
      "cell_type": "code",
      "metadata": {
        "id": "YnHug2I5gY4o"
      },
      "source": [
        "#create a map on Pakistan location\n",
        "pakistan_map = folium.Map(location = [30.37,69.34],zoom_start=4.5,tiles='OpenStreetMap')"
      ],
      "execution_count": 9,
      "outputs": []
    },
    {
      "cell_type": "code",
      "source": [
        "df"
      ],
      "metadata": {
        "colab": {
          "base_uri": "https://localhost:8080/",
          "height": 269
        },
        "id": "Z2VFzYk-0Byo",
        "outputId": "05788c40-fe62-4008-96c7-2d4357df7552"
      },
      "execution_count": 10,
      "outputs": [
        {
          "output_type": "execute_result",
          "data": {
            "text/plain": [
              "       CITIES  LATITUDE  LONGITUDE  CASES  DEATHS  EFFECTED\n",
              "0      Lahore    31.500    74.3500      7      14       100\n",
              "1  Rawalpindi    33.560    73.0100      9      30       120\n",
              "2      Chakwa    32.930    72.8600      2      20       180\n",
              "3  FaisalAbad    31.400    73.1300      1      10       100\n",
              "4     Karachi    24.860    67.0000      2       1        12\n",
              "5    Peshawar    34.000    71.5000     50    1300     20000\n",
              "6      Mardan    34.198    74.0404     60    1200      2222"
            ],
            "text/html": [
              "\n",
              "  <div id=\"df-90127a25-f3d4-4909-9257-9f2b80c744f9\">\n",
              "    <div class=\"colab-df-container\">\n",
              "      <div>\n",
              "<style scoped>\n",
              "    .dataframe tbody tr th:only-of-type {\n",
              "        vertical-align: middle;\n",
              "    }\n",
              "\n",
              "    .dataframe tbody tr th {\n",
              "        vertical-align: top;\n",
              "    }\n",
              "\n",
              "    .dataframe thead th {\n",
              "        text-align: right;\n",
              "    }\n",
              "</style>\n",
              "<table border=\"1\" class=\"dataframe\">\n",
              "  <thead>\n",
              "    <tr style=\"text-align: right;\">\n",
              "      <th></th>\n",
              "      <th>CITIES</th>\n",
              "      <th>LATITUDE</th>\n",
              "      <th>LONGITUDE</th>\n",
              "      <th>CASES</th>\n",
              "      <th>DEATHS</th>\n",
              "      <th>EFFECTED</th>\n",
              "    </tr>\n",
              "  </thead>\n",
              "  <tbody>\n",
              "    <tr>\n",
              "      <th>0</th>\n",
              "      <td>Lahore</td>\n",
              "      <td>31.500</td>\n",
              "      <td>74.3500</td>\n",
              "      <td>7</td>\n",
              "      <td>14</td>\n",
              "      <td>100</td>\n",
              "    </tr>\n",
              "    <tr>\n",
              "      <th>1</th>\n",
              "      <td>Rawalpindi</td>\n",
              "      <td>33.560</td>\n",
              "      <td>73.0100</td>\n",
              "      <td>9</td>\n",
              "      <td>30</td>\n",
              "      <td>120</td>\n",
              "    </tr>\n",
              "    <tr>\n",
              "      <th>2</th>\n",
              "      <td>Chakwa</td>\n",
              "      <td>32.930</td>\n",
              "      <td>72.8600</td>\n",
              "      <td>2</td>\n",
              "      <td>20</td>\n",
              "      <td>180</td>\n",
              "    </tr>\n",
              "    <tr>\n",
              "      <th>3</th>\n",
              "      <td>FaisalAbad</td>\n",
              "      <td>31.400</td>\n",
              "      <td>73.1300</td>\n",
              "      <td>1</td>\n",
              "      <td>10</td>\n",
              "      <td>100</td>\n",
              "    </tr>\n",
              "    <tr>\n",
              "      <th>4</th>\n",
              "      <td>Karachi</td>\n",
              "      <td>24.860</td>\n",
              "      <td>67.0000</td>\n",
              "      <td>2</td>\n",
              "      <td>1</td>\n",
              "      <td>12</td>\n",
              "    </tr>\n",
              "    <tr>\n",
              "      <th>5</th>\n",
              "      <td>Peshawar</td>\n",
              "      <td>34.000</td>\n",
              "      <td>71.5000</td>\n",
              "      <td>50</td>\n",
              "      <td>1300</td>\n",
              "      <td>20000</td>\n",
              "    </tr>\n",
              "    <tr>\n",
              "      <th>6</th>\n",
              "      <td>Mardan</td>\n",
              "      <td>34.198</td>\n",
              "      <td>74.0404</td>\n",
              "      <td>60</td>\n",
              "      <td>1200</td>\n",
              "      <td>2222</td>\n",
              "    </tr>\n",
              "  </tbody>\n",
              "</table>\n",
              "</div>\n",
              "      <button class=\"colab-df-convert\" onclick=\"convertToInteractive('df-90127a25-f3d4-4909-9257-9f2b80c744f9')\"\n",
              "              title=\"Convert this dataframe to an interactive table.\"\n",
              "              style=\"display:none;\">\n",
              "        \n",
              "  <svg xmlns=\"http://www.w3.org/2000/svg\" height=\"24px\"viewBox=\"0 0 24 24\"\n",
              "       width=\"24px\">\n",
              "    <path d=\"M0 0h24v24H0V0z\" fill=\"none\"/>\n",
              "    <path d=\"M18.56 5.44l.94 2.06.94-2.06 2.06-.94-2.06-.94-.94-2.06-.94 2.06-2.06.94zm-11 1L8.5 8.5l.94-2.06 2.06-.94-2.06-.94L8.5 2.5l-.94 2.06-2.06.94zm10 10l.94 2.06.94-2.06 2.06-.94-2.06-.94-.94-2.06-.94 2.06-2.06.94z\"/><path d=\"M17.41 7.96l-1.37-1.37c-.4-.4-.92-.59-1.43-.59-.52 0-1.04.2-1.43.59L10.3 9.45l-7.72 7.72c-.78.78-.78 2.05 0 2.83L4 21.41c.39.39.9.59 1.41.59.51 0 1.02-.2 1.41-.59l7.78-7.78 2.81-2.81c.8-.78.8-2.07 0-2.86zM5.41 20L4 18.59l7.72-7.72 1.47 1.35L5.41 20z\"/>\n",
              "  </svg>\n",
              "      </button>\n",
              "      \n",
              "  <style>\n",
              "    .colab-df-container {\n",
              "      display:flex;\n",
              "      flex-wrap:wrap;\n",
              "      gap: 12px;\n",
              "    }\n",
              "\n",
              "    .colab-df-convert {\n",
              "      background-color: #E8F0FE;\n",
              "      border: none;\n",
              "      border-radius: 50%;\n",
              "      cursor: pointer;\n",
              "      display: none;\n",
              "      fill: #1967D2;\n",
              "      height: 32px;\n",
              "      padding: 0 0 0 0;\n",
              "      width: 32px;\n",
              "    }\n",
              "\n",
              "    .colab-df-convert:hover {\n",
              "      background-color: #E2EBFA;\n",
              "      box-shadow: 0px 1px 2px rgba(60, 64, 67, 0.3), 0px 1px 3px 1px rgba(60, 64, 67, 0.15);\n",
              "      fill: #174EA6;\n",
              "    }\n",
              "\n",
              "    [theme=dark] .colab-df-convert {\n",
              "      background-color: #3B4455;\n",
              "      fill: #D2E3FC;\n",
              "    }\n",
              "\n",
              "    [theme=dark] .colab-df-convert:hover {\n",
              "      background-color: #434B5C;\n",
              "      box-shadow: 0px 1px 3px 1px rgba(0, 0, 0, 0.15);\n",
              "      filter: drop-shadow(0px 1px 2px rgba(0, 0, 0, 0.3));\n",
              "      fill: #FFFFFF;\n",
              "    }\n",
              "  </style>\n",
              "\n",
              "      <script>\n",
              "        const buttonEl =\n",
              "          document.querySelector('#df-90127a25-f3d4-4909-9257-9f2b80c744f9 button.colab-df-convert');\n",
              "        buttonEl.style.display =\n",
              "          google.colab.kernel.accessAllowed ? 'block' : 'none';\n",
              "\n",
              "        async function convertToInteractive(key) {\n",
              "          const element = document.querySelector('#df-90127a25-f3d4-4909-9257-9f2b80c744f9');\n",
              "          const dataTable =\n",
              "            await google.colab.kernel.invokeFunction('convertToInteractive',\n",
              "                                                     [key], {});\n",
              "          if (!dataTable) return;\n",
              "\n",
              "          const docLinkHtml = 'Like what you see? Visit the ' +\n",
              "            '<a target=\"_blank\" href=https://colab.research.google.com/notebooks/data_table.ipynb>data table notebook</a>'\n",
              "            + ' to learn more about interactive tables.';\n",
              "          element.innerHTML = '';\n",
              "          dataTable['output_type'] = 'display_data';\n",
              "          await google.colab.output.renderOutput(dataTable, element);\n",
              "          const docLink = document.createElement('div');\n",
              "          docLink.innerHTML = docLinkHtml;\n",
              "          element.appendChild(docLink);\n",
              "        }\n",
              "      </script>\n",
              "    </div>\n",
              "  </div>\n",
              "  "
            ]
          },
          "metadata": {},
          "execution_count": 10
        }
      ]
    },
    {
      "cell_type": "code",
      "source": [
        "dronesmap = gpd.GeoDataFrame(df, geometry=gpd.points_from_xy(x=df.LONGITUDE, y=df.LATITUDE))\n",
        "dronesmap.plot()"
      ],
      "metadata": {
        "colab": {
          "base_uri": "https://localhost:8080/",
          "height": 282
        },
        "id": "ohoHAbKL0t6_",
        "outputId": "a4a45180-c7fc-4ab9-a268-2b0855d6d729"
      },
      "execution_count": 11,
      "outputs": [
        {
          "output_type": "execute_result",
          "data": {
            "text/plain": [
              "<matplotlib.axes._subplots.AxesSubplot at 0x7f6447933a10>"
            ]
          },
          "metadata": {},
          "execution_count": 11
        },
        {
          "output_type": "display_data",
          "data": {
            "text/plain": [
              "<Figure size 432x288 with 1 Axes>"
            ],
            "image/png": "[encoded data removed]"
          },
          "metadata": {
            "needs_background": "light"
          }
        }
      ]
    },
    {
      "cell_type": "code",
      "source": [
        "displaymap = dronesmap.set_crs(epsg=4326)\n",
        "displaymap.crs\n",
        "displaymap.explore()"
      ],
      "metadata": {
        "colab": {
          "base_uri": "https://localhost:8080/",
          "height": 866
        },
        "id": "Ezme43sz0t9e",
        "outputId": "3bf042c2-54c5-4de8-e944-ceb782e12a76"
      },
      "execution_count": 13,
      "outputs": [
        {
          "output_type": "execute_result",
          "data": {
            "text/plain": [
              "<folium.folium.Map at 0x7f643392c350>"
            ],
            "text/html": [
              "<div style=\"width:100%;\"><div style=\"position:relative;width:100%;height:0;padding-bottom:60%;\"><span style=\"color:#565656\">Make this Notebook Trusted to load map: File -> Trust Notebook</span><iframe srcdoc=\"&lt;!DOCTYPE html&gt;\n",
              "&lt;head&gt;    \n",
              "    &lt;meta http-equiv=&quot;content-type&quot; content=&quot;text/html; charset=UTF-8&quot; /&gt;\n",
              "    \n",
              "        &lt;script&gt;\n",
              "            L_NO_TOUCH = false;\n",
              "            L_DISABLE_3D = false;\n",
              "        &lt;/script&gt;\n",
              "    \n",
              "    &lt;style&gt;html, body {width: 100%;height: 100%;margin: 0;padding: 0;}&lt;/style&gt;\n",
              "    &lt;style&gt;#map {position:absolute;top:0;bottom:0;right:0;left:0;}&lt;/style&gt;\n",
              "    &lt;script src=&quot;https://cdn.jsdelivr.net/npm/leaflet@1.6.0/dist/leaflet.js&quot;&gt;&lt;/script&gt;\n",
              "    &lt;script src=&quot;https://code.jquery.com/jquery-1.12.4.min.js&quot;&gt;&lt;/script&gt;\n",
              "    &lt;script src=&quot;https://maxcdn.bootstrapcdn.com/bootstrap/3.2.0/js/bootstrap.min.js&quot;&gt;&lt;/script&gt;\n",
              "    &lt;script src=&quot;https://cdnjs.cloudflare.com/ajax/libs/Leaflet.awesome-markers/2.0.2/leaflet.awesome-markers.js&quot;&gt;&lt;/script&gt;\n",
              "    &lt;link rel=&quot;stylesheet&quot; href=&quot;https://cdn.jsdelivr.net/npm/leaflet@1.6.0/dist/leaflet.css&quot;/&gt;\n",
              "    &lt;link rel=&quot;stylesheet&quot; href=&quot;https://maxcdn.bootstrapcdn.com/bootstrap/3.2.0/css/bootstrap.min.css&quot;/&gt;\n",
              "    &lt;link rel=&quot;stylesheet&quot; href=&quot;https://maxcdn.bootstrapcdn.com/bootstrap/3.2.0/css/bootstrap-theme.min.css&quot;/&gt;\n",
              "    &lt;link rel=&quot;stylesheet&quot; href=&quot;https://maxcdn.bootstrapcdn.com/font-awesome/4.6.3/css/font-awesome.min.css&quot;/&gt;\n",
              "    &lt;link rel=&quot;stylesheet&quot; href=&quot;https://cdnjs.cloudflare.com/ajax/libs/Leaflet.awesome-markers/2.0.2/leaflet.awesome-markers.css&quot;/&gt;\n",
              "    &lt;link rel=&quot;stylesheet&quot; href=&quot;https://cdn.jsdelivr.net/gh/python-visualization/folium/folium/templates/leaflet.awesome.rotate.min.css&quot;/&gt;\n",
              "    \n",
              "            &lt;meta name=&quot;viewport&quot; content=&quot;width=device-width,\n",
              "                initial-scale=1.0, maximum-scale=1.0, user-scalable=no&quot; /&gt;\n",
              "            &lt;style&gt;\n",
              "                #map_07d593c190fbebce2c1df5b58cd60966 {\n",
              "                    position: relative;\n",
              "                    width: 100.0%;\n",
              "                    height: 100.0%;\n",
              "                    left: 0.0%;\n",
              "                    top: 0.0%;\n",
              "                }\n",
              "            &lt;/style&gt;\n",
              "        \n",
              "    \n",
              "                    &lt;style&gt;\n",
              "                        .foliumtooltip {\n",
              "                            \n",
              "                        }\n",
              "                       .foliumtooltip table{\n",
              "                            margin: auto;\n",
              "                        }\n",
              "                        .foliumtooltip tr{\n",
              "                            text-align: left;\n",
              "                        }\n",
              "                        .foliumtooltip th{\n",
              "                            padding: 2px; padding-right: 8px;\n",
              "                        }\n",
              "                    &lt;/style&gt;\n",
              "            \n",
              "&lt;/head&gt;\n",
              "&lt;body&gt;    \n",
              "    \n",
              "            &lt;div class=&quot;folium-map&quot; id=&quot;map_07d593c190fbebce2c1df5b58cd60966&quot; &gt;&lt;/div&gt;\n",
              "        \n",
              "&lt;/body&gt;\n",
              "&lt;script&gt;    \n",
              "    \n",
              "            var map_07d593c190fbebce2c1df5b58cd60966 = L.map(\n",
              "                &quot;map_07d593c190fbebce2c1df5b58cd60966&quot;,\n",
              "                {\n",
              "                    center: [29.529, 70.675],\n",
              "                    crs: L.CRS.EPSG3857,\n",
              "                    zoom: 10,\n",
              "                    zoomControl: true,\n",
              "                    preferCanvas: false,\n",
              "                }\n",
              "            );\n",
              "            L.control.scale().addTo(map_07d593c190fbebce2c1df5b58cd60966);\n",
              "\n",
              "            \n",
              "\n",
              "        \n",
              "    \n",
              "            var tile_layer_c2ab405f43d3f1017216bd0043efc75f = L.tileLayer(\n",
              "                &quot;https://{s}.tile.openstreetmap.org/{z}/{x}/{y}.png&quot;,\n",
              "                {&quot;attribution&quot;: &quot;Data by \\u0026copy; \\u003ca href=\\&quot;http://openstreetmap.org\\&quot;\\u003eOpenStreetMap\\u003c/a\\u003e, under \\u003ca href=\\&quot;http://www.openstreetmap.org/copyright\\&quot;\\u003eODbL\\u003c/a\\u003e.&quot;, &quot;detectRetina&quot;: false, &quot;maxNativeZoom&quot;: 18, &quot;maxZoom&quot;: 18, &quot;minZoom&quot;: 0, &quot;noWrap&quot;: false, &quot;opacity&quot;: 1, &quot;subdomains&quot;: &quot;abc&quot;, &quot;tms&quot;: false}\n",
              "            ).addTo(map_07d593c190fbebce2c1df5b58cd60966);\n",
              "        \n",
              "    \n",
              "            map_07d593c190fbebce2c1df5b58cd60966.fitBounds(\n",
              "                [[24.86, 67.0], [34.198, 74.35]],\n",
              "                {}\n",
              "            );\n",
              "        \n",
              "    \n",
              "        function geo_json_cf49b70fa1b4cd44a7a303c5f285c84f_styler(feature) {\n",
              "            switch(feature.id) {\n",
              "                default:\n",
              "                    return {&quot;fillOpacity&quot;: 0.5, &quot;weight&quot;: 2};\n",
              "            }\n",
              "        }\n",
              "        function geo_json_cf49b70fa1b4cd44a7a303c5f285c84f_highlighter(feature) {\n",
              "            switch(feature.id) {\n",
              "                default:\n",
              "                    return {&quot;fillOpacity&quot;: 0.75};\n",
              "            }\n",
              "        }\n",
              "        function geo_json_cf49b70fa1b4cd44a7a303c5f285c84f_pointToLayer(feature, latlng) {\n",
              "            var opts = {&quot;bubblingMouseEvents&quot;: true, &quot;color&quot;: &quot;#3388ff&quot;, &quot;dashArray&quot;: null, &quot;dashOffset&quot;: null, &quot;fill&quot;: true, &quot;fillColor&quot;: &quot;#3388ff&quot;, &quot;fillOpacity&quot;: 0.2, &quot;fillRule&quot;: &quot;evenodd&quot;, &quot;lineCap&quot;: &quot;round&quot;, &quot;lineJoin&quot;: &quot;round&quot;, &quot;opacity&quot;: 1.0, &quot;radius&quot;: 2, &quot;stroke&quot;: true, &quot;weight&quot;: 3};\n",
              "            \n",
              "            let style = geo_json_cf49b70fa1b4cd44a7a303c5f285c84f_styler(feature)\n",
              "            Object.assign(opts, style)\n",
              "            \n",
              "            return new L.CircleMarker(latlng, opts)\n",
              "        }\n",
              "\n",
              "        function geo_json_cf49b70fa1b4cd44a7a303c5f285c84f_onEachFeature(feature, layer) {\n",
              "            layer.on({\n",
              "                mouseout: function(e) {\n",
              "                    if(typeof e.target.setStyle === &quot;function&quot;){\n",
              "                        geo_json_cf49b70fa1b4cd44a7a303c5f285c84f.resetStyle(e.target);\n",
              "                    }\n",
              "                },\n",
              "                mouseover: function(e) {\n",
              "                    if(typeof e.target.setStyle === &quot;function&quot;){\n",
              "                        const highlightStyle = geo_json_cf49b70fa1b4cd44a7a303c5f285c84f_highlighter(e.target.feature)\n",
              "                        e.target.setStyle(highlightStyle);\n",
              "                    }\n",
              "                },\n",
              "            });\n",
              "        };\n",
              "        var geo_json_cf49b70fa1b4cd44a7a303c5f285c84f = L.geoJson(null, {\n",
              "                onEachFeature: geo_json_cf49b70fa1b4cd44a7a303c5f285c84f_onEachFeature,\n",
              "            \n",
              "                style: geo_json_cf49b70fa1b4cd44a7a303c5f285c84f_styler,\n",
              "                pointToLayer: geo_json_cf49b70fa1b4cd44a7a303c5f285c84f_pointToLayer\n",
              "        });\n",
              "\n",
              "        function geo_json_cf49b70fa1b4cd44a7a303c5f285c84f_add (data) {\n",
              "            geo_json_cf49b70fa1b4cd44a7a303c5f285c84f\n",
              "                .addData(data)\n",
              "                .addTo(map_07d593c190fbebce2c1df5b58cd60966);\n",
              "        }\n",
              "            geo_json_cf49b70fa1b4cd44a7a303c5f285c84f_add({&quot;bbox&quot;: [67.0, 24.86, 74.35, 34.198], &quot;features&quot;: [{&quot;bbox&quot;: [74.35, 31.5, 74.35, 31.5], &quot;geometry&quot;: {&quot;coordinates&quot;: [74.35, 31.5], &quot;type&quot;: &quot;Point&quot;}, &quot;id&quot;: &quot;0&quot;, &quot;properties&quot;: {&quot;CASES&quot;: 7, &quot;CITIES&quot;: &quot;Lahore&quot;, &quot;DEATHS&quot;: 14, &quot;EFFECTED&quot;: 100, &quot;LATITUDE&quot;: 31.5, &quot;LONGITUDE&quot;: 74.35}, &quot;type&quot;: &quot;Feature&quot;}, {&quot;bbox&quot;: [73.01, 33.56, 73.01, 33.56], &quot;geometry&quot;: {&quot;coordinates&quot;: [73.01, 33.56], &quot;type&quot;: &quot;Point&quot;}, &quot;id&quot;: &quot;1&quot;, &quot;properties&quot;: {&quot;CASES&quot;: 9, &quot;CITIES&quot;: &quot;Rawalpindi&quot;, &quot;DEATHS&quot;: 30, &quot;EFFECTED&quot;: 120, &quot;LATITUDE&quot;: 33.56, &quot;LONGITUDE&quot;: 73.01}, &quot;type&quot;: &quot;Feature&quot;}, {&quot;bbox&quot;: [72.86, 32.93, 72.86, 32.93], &quot;geometry&quot;: {&quot;coordinates&quot;: [72.86, 32.93], &quot;type&quot;: &quot;Point&quot;}, &quot;id&quot;: &quot;2&quot;, &quot;properties&quot;: {&quot;CASES&quot;: 2, &quot;CITIES&quot;: &quot;Chakwa&quot;, &quot;DEATHS&quot;: 20, &quot;EFFECTED&quot;: 180, &quot;LATITUDE&quot;: 32.93, &quot;LONGITUDE&quot;: 72.86}, &quot;type&quot;: &quot;Feature&quot;}, {&quot;bbox&quot;: [73.13, 31.4, 73.13, 31.4], &quot;geometry&quot;: {&quot;coordinates&quot;: [73.13, 31.4], &quot;type&quot;: &quot;Point&quot;}, &quot;id&quot;: &quot;3&quot;, &quot;properties&quot;: {&quot;CASES&quot;: 1, &quot;CITIES&quot;: &quot;FaisalAbad&quot;, &quot;DEATHS&quot;: 10, &quot;EFFECTED&quot;: 100, &quot;LATITUDE&quot;: 31.4, &quot;LONGITUDE&quot;: 73.13}, &quot;type&quot;: &quot;Feature&quot;}, {&quot;bbox&quot;: [67.0, 24.86, 67.0, 24.86], &quot;geometry&quot;: {&quot;coordinates&quot;: [67.0, 24.86], &quot;type&quot;: &quot;Point&quot;}, &quot;id&quot;: &quot;4&quot;, &quot;properties&quot;: {&quot;CASES&quot;: 2, &quot;CITIES&quot;: &quot;Karachi&quot;, &quot;DEATHS&quot;: 1, &quot;EFFECTED&quot;: 12, &quot;LATITUDE&quot;: 24.86, &quot;LONGITUDE&quot;: 67.0}, &quot;type&quot;: &quot;Feature&quot;}, {&quot;bbox&quot;: [71.5, 34.0, 71.5, 34.0], &quot;geometry&quot;: {&quot;coordinates&quot;: [71.5, 34.0], &quot;type&quot;: &quot;Point&quot;}, &quot;id&quot;: &quot;5&quot;, &quot;properties&quot;: {&quot;CASES&quot;: 50, &quot;CITIES&quot;: &quot;Peshawar&quot;, &quot;DEATHS&quot;: 1300, &quot;EFFECTED&quot;: 20000, &quot;LATITUDE&quot;: 34.0, &quot;LONGITUDE&quot;: 71.5}, &quot;type&quot;: &quot;Feature&quot;}, {&quot;bbox&quot;: [74.0404, 34.198, 74.0404, 34.198], &quot;geometry&quot;: {&quot;coordinates&quot;: [74.0404, 34.198], &quot;type&quot;: &quot;Point&quot;}, &quot;id&quot;: &quot;6&quot;, &quot;properties&quot;: {&quot;CASES&quot;: 60, &quot;CITIES&quot;: &quot;Mardan&quot;, &quot;DEATHS&quot;: 1200, &quot;EFFECTED&quot;: 2222, &quot;LATITUDE&quot;: 34.198, &quot;LONGITUDE&quot;: 74.0404}, &quot;type&quot;: &quot;Feature&quot;}], &quot;type&quot;: &quot;FeatureCollection&quot;});\n",
              "\n",
              "        \n",
              "    \n",
              "    geo_json_cf49b70fa1b4cd44a7a303c5f285c84f.bindTooltip(\n",
              "    function(layer){\n",
              "    let div = L.DomUtil.create(&#x27;div&#x27;);\n",
              "    \n",
              "    let handleObject = feature=&gt;typeof(feature)==&#x27;object&#x27; ? JSON.stringify(feature) : feature;\n",
              "    let fields = [&quot;CITIES&quot;, &quot;LATITUDE&quot;, &quot;LONGITUDE&quot;, &quot;CASES&quot;, &quot;DEATHS&quot;, &quot;EFFECTED&quot;];\n",
              "    let aliases = [&quot;CITIES&quot;, &quot;LATITUDE&quot;, &quot;LONGITUDE&quot;, &quot;CASES&quot;, &quot;DEATHS&quot;, &quot;EFFECTED&quot;];\n",
              "    let table = &#x27;&lt;table&gt;&#x27; +\n",
              "        String(\n",
              "        fields.map(\n",
              "        (v,i)=&gt;\n",
              "        `&lt;tr&gt;\n",
              "            &lt;th&gt;${aliases[i]}&lt;/th&gt;\n",
              "            \n",
              "            &lt;td&gt;${handleObject(layer.feature.properties[v])}&lt;/td&gt;\n",
              "        &lt;/tr&gt;`).join(&#x27;&#x27;))\n",
              "    +&#x27;&lt;/table&gt;&#x27;;\n",
              "    div.innerHTML=table;\n",
              "    \n",
              "    return div\n",
              "    }\n",
              "    ,{&quot;className&quot;: &quot;foliumtooltip&quot;, &quot;sticky&quot;: true});\n",
              "                     \n",
              "&lt;/script&gt;\" style=\"position:absolute;width:100%;height:100%;left:0;top:0;border:none !important;\" allowfullscreen webkitallowfullscreen mozallowfullscreen></iframe></div></div>"
            ]
          },
          "metadata": {},
          "execution_count": 13
        }
      ]
    },
    {
      "cell_type": "code",
      "source": [],
      "metadata": {
        "id": "UQWCODFV0t_0"
      },
      "execution_count": null,
      "outputs": []
    },
    {
      "cell_type": "code",
      "source": [],
      "metadata": {
        "id": "QnAYGpL90uB8"
      },
      "execution_count": null,
      "outputs": []
    },
    {
      "cell_type": "code",
      "source": [],
      "metadata": {
        "id": "X4nxs7eo0uEn"
      },
      "execution_count": null,
      "outputs": []
    },
    {
      "cell_type": "code",
      "source": [],
      "metadata": {
        "id": "7z2Wpiov0uG4"
      },
      "execution_count": null,
      "outputs": []
    },
    {
      "cell_type": "code",
      "source": [],
      "metadata": {
        "id": "N9DU7IPl0uJe"
      },
      "execution_count": null,
      "outputs": []
    }
  ]
}