{
  "nbformat": 4,
  "nbformat_minor": 0,
  "metadata": {
    "colab": {
      "provenance": [],
      "authorship_tag": "ABX9TyNjdaq6zZbjkLduH8G0YfNx",
      "include_colab_link": true
    },
    "kernelspec": {
      "name": "python3",
      "display_name": "Python 3"
    },
    "language_info": {
      "name": "python"
    }
  },
  "cells": [
    {
      "cell_type": "markdown",
      "metadata": {
        "id": "view-in-github",
        "colab_type": "text"
      },
      "source": [
        "<a href=\"https://colab.research.google.com/github/Subhan460/IDS_Assignments/blob/main/SP20_BCS_098_ASSIGN_04_IDS_.ipynb\" target=\"_parent\"><img src=\"https://colab.research.google.com/assets/colab-badge.svg\" alt=\"Open In Colab\"/></a>"
      ]
    },
    {
      "cell_type": "code",
      "execution_count": 31,
      "metadata": {
        "id": "c68vr-kOvqQN"
      },
      "outputs": [],
      "source": [
        "import pandas as pd"
      ]
    },
    {
      "cell_type": "code",
      "source": [
        "from google.colab import drive\n"
      ],
      "metadata": {
        "id": "AO2B4XEIvu77"
      },
      "execution_count": 32,
      "outputs": []
    },
    {
      "cell_type": "code",
      "source": [
        "drive.mount('/content/drive/')\n"
      ],
      "metadata": {
        "colab": {
          "base_uri": "https://localhost:8080/"
        },
        "id": "LPC1tY4Kvu9k",
        "outputId": "259dd091-e7f5-46a8-e249-8d37a677c96e"
      },
      "execution_count": 33,
      "outputs": [
        {
          "output_type": "stream",
          "name": "stdout",
          "text": [
            "Drive already mounted at /content/drive/; to attempt to forcibly remount, call drive.mount(\"/content/drive/\", force_remount=True).\n"
          ]
        }
      ]
    },
    {
      "cell_type": "code",
      "source": [
        "df = pd.read_csv('/content/drive/My Drive/G-prediction.csv')\n"
      ],
      "metadata": {
        "id": "b4IBWn0jvvA2"
      },
      "execution_count": 34,
      "outputs": []
    },
    {
      "cell_type": "markdown",
      "source": [],
      "metadata": {
        "id": "Ya1VTPyXXG1X"
      }
    },
    {
      "cell_type": "code",
      "source": [
        "df"
      ],
      "metadata": {
        "colab": {
          "base_uri": "https://localhost:8080/",
          "height": 424
        },
        "id": "6HiMBqzPvvCg",
        "outputId": "79cd06c8-fc2e-4147-b826-20fbc9a4bc6d"
      },
      "execution_count": 35,
      "outputs": [
        {
          "output_type": "execute_result",
          "data": {
            "text/plain": [
              "    height  weight beard hair_length  shoe_size scarf eye_color  gender\n",
              "0       71     176   yes       short         44    no     black    male\n",
              "1       68     165    no        bald         41    no     black    male\n",
              "2       62     132    no      medium         37   yes      blue  female\n",
              "3       65     138    no        long         38    no      gray  female\n",
              "4       70     197   yes      medium         43    no      gray    male\n",
              "..     ...     ...   ...         ...        ...   ...       ...     ...\n",
              "75      65      99    no       short         39   yes     green  female\n",
              "76      61      98    no       short         37    no     brown  female\n",
              "77      67     119   yes       short         40    no     black    male\n",
              "78      70     190   yes      medium         43    no      gray    male\n",
              "79      62     142   yes        long         37    no      blue  female\n",
              "\n",
              "[80 rows x 8 columns]"
            ],
            "text/html": [
              "\n",
              "  <div id=\"df-bbb0a047-c3e5-42a0-9d40-2fd46c664ced\">\n",
              "    <div class=\"colab-df-container\">\n",
              "      <div>\n",
              "<style scoped>\n",
              "    .dataframe tbody tr th:only-of-type {\n",
              "        vertical-align: middle;\n",
              "    }\n",
              "\n",
              "    .dataframe tbody tr th {\n",
              "        vertical-align: top;\n",
              "    }\n",
              "\n",
              "    .dataframe thead th {\n",
              "        text-align: right;\n",
              "    }\n",
              "</style>\n",
              "<table border=\"1\" class=\"dataframe\">\n",
              "  <thead>\n",
              "    <tr style=\"text-align: right;\">\n",
              "      <th></th>\n",
              "      <th>height</th>\n",
              "      <th>weight</th>\n",
              "      <th>beard</th>\n",
              "      <th>hair_length</th>\n",
              "      <th>shoe_size</th>\n",
              "      <th>scarf</th>\n",
              "      <th>eye_color</th>\n",
              "      <th>gender</th>\n",
              "    </tr>\n",
              "  </thead>\n",
              "  <tbody>\n",
              "    <tr>\n",
              "      <th>0</th>\n",
              "      <td>71</td>\n",
              "      <td>176</td>\n",
              "      <td>yes</td>\n",
              "      <td>short</td>\n",
              "      <td>44</td>\n",
              "      <td>no</td>\n",
              "      <td>black</td>\n",
              "      <td>male</td>\n",
              "    </tr>\n",
              "    <tr>\n",
              "      <th>1</th>\n",
              "      <td>68</td>\n",
              "      <td>165</td>\n",
              "      <td>no</td>\n",
              "      <td>bald</td>\n",
              "      <td>41</td>\n",
              "      <td>no</td>\n",
              "      <td>black</td>\n",
              "      <td>male</td>\n",
              "    </tr>\n",
              "    <tr>\n",
              "      <th>2</th>\n",
              "      <td>62</td>\n",
              "      <td>132</td>\n",
              "      <td>no</td>\n",
              "      <td>medium</td>\n",
              "      <td>37</td>\n",
              "      <td>yes</td>\n",
              "      <td>blue</td>\n",
              "      <td>female</td>\n",
              "    </tr>\n",
              "    <tr>\n",
              "      <th>3</th>\n",
              "      <td>65</td>\n",
              "      <td>138</td>\n",
              "      <td>no</td>\n",
              "      <td>long</td>\n",
              "      <td>38</td>\n",
              "      <td>no</td>\n",
              "      <td>gray</td>\n",
              "      <td>female</td>\n",
              "    </tr>\n",
              "    <tr>\n",
              "      <th>4</th>\n",
              "      <td>70</td>\n",
              "      <td>197</td>\n",
              "      <td>yes</td>\n",
              "      <td>medium</td>\n",
              "      <td>43</td>\n",
              "      <td>no</td>\n",
              "      <td>gray</td>\n",
              "      <td>male</td>\n",
              "    </tr>\n",
              "    <tr>\n",
              "      <th>...</th>\n",
              "      <td>...</td>\n",
              "      <td>...</td>\n",
              "      <td>...</td>\n",
              "      <td>...</td>\n",
              "      <td>...</td>\n",
              "      <td>...</td>\n",
              "      <td>...</td>\n",
              "      <td>...</td>\n",
              "    </tr>\n",
              "    <tr>\n",
              "      <th>75</th>\n",
              "      <td>65</td>\n",
              "      <td>99</td>\n",
              "      <td>no</td>\n",
              "      <td>short</td>\n",
              "      <td>39</td>\n",
              "      <td>yes</td>\n",
              "      <td>green</td>\n",
              "      <td>female</td>\n",
              "    </tr>\n",
              "    <tr>\n",
              "      <th>76</th>\n",
              "      <td>61</td>\n",
              "      <td>98</td>\n",
              "      <td>no</td>\n",
              "      <td>short</td>\n",
              "      <td>37</td>\n",
              "      <td>no</td>\n",
              "      <td>brown</td>\n",
              "      <td>female</td>\n",
              "    </tr>\n",
              "    <tr>\n",
              "      <th>77</th>\n",
              "      <td>67</td>\n",
              "      <td>119</td>\n",
              "      <td>yes</td>\n",
              "      <td>short</td>\n",
              "      <td>40</td>\n",
              "      <td>no</td>\n",
              "      <td>black</td>\n",
              "      <td>male</td>\n",
              "    </tr>\n",
              "    <tr>\n",
              "      <th>78</th>\n",
              "      <td>70</td>\n",
              "      <td>190</td>\n",
              "      <td>yes</td>\n",
              "      <td>medium</td>\n",
              "      <td>43</td>\n",
              "      <td>no</td>\n",
              "      <td>gray</td>\n",
              "      <td>male</td>\n",
              "    </tr>\n",
              "    <tr>\n",
              "      <th>79</th>\n",
              "      <td>62</td>\n",
              "      <td>142</td>\n",
              "      <td>yes</td>\n",
              "      <td>long</td>\n",
              "      <td>37</td>\n",
              "      <td>no</td>\n",
              "      <td>blue</td>\n",
              "      <td>female</td>\n",
              "    </tr>\n",
              "  </tbody>\n",
              "</table>\n",
              "<p>80 rows × 8 columns</p>\n",
              "</div>\n",
              "      <button class=\"colab-df-convert\" onclick=\"convertToInteractive('df-bbb0a047-c3e5-42a0-9d40-2fd46c664ced')\"\n",
              "              title=\"Convert this dataframe to an interactive table.\"\n",
              "              style=\"display:none;\">\n",
              "        \n",
              "  <svg xmlns=\"http://www.w3.org/2000/svg\" height=\"24px\"viewBox=\"0 0 24 24\"\n",
              "       width=\"24px\">\n",
              "    <path d=\"M0 0h24v24H0V0z\" fill=\"none\"/>\n",
              "    <path d=\"M18.56 5.44l.94 2.06.94-2.06 2.06-.94-2.06-.94-.94-2.06-.94 2.06-2.06.94zm-11 1L8.5 8.5l.94-2.06 2.06-.94-2.06-.94L8.5 2.5l-.94 2.06-2.06.94zm10 10l.94 2.06.94-2.06 2.06-.94-2.06-.94-.94-2.06-.94 2.06-2.06.94z\"/><path d=\"M17.41 7.96l-1.37-1.37c-.4-.4-.92-.59-1.43-.59-.52 0-1.04.2-1.43.59L10.3 9.45l-7.72 7.72c-.78.78-.78 2.05 0 2.83L4 21.41c.39.39.9.59 1.41.59.51 0 1.02-.2 1.41-.59l7.78-7.78 2.81-2.81c.8-.78.8-2.07 0-2.86zM5.41 20L4 18.59l7.72-7.72 1.47 1.35L5.41 20z\"/>\n",
              "  </svg>\n",
              "      </button>\n",
              "      \n",
              "  <style>\n",
              "    .colab-df-container {\n",
              "      display:flex;\n",
              "      flex-wrap:wrap;\n",
              "      gap: 12px;\n",
              "    }\n",
              "\n",
              "    .colab-df-convert {\n",
              "      background-color: #E8F0FE;\n",
              "      border: none;\n",
              "      border-radius: 50%;\n",
              "      cursor: pointer;\n",
              "      display: none;\n",
              "      fill: #1967D2;\n",
              "      height: 32px;\n",
              "      padding: 0 0 0 0;\n",
              "      width: 32px;\n",
              "    }\n",
              "\n",
              "    .colab-df-convert:hover {\n",
              "      background-color: #E2EBFA;\n",
              "      box-shadow: 0px 1px 2px rgba(60, 64, 67, 0.3), 0px 1px 3px 1px rgba(60, 64, 67, 0.15);\n",
              "      fill: #174EA6;\n",
              "    }\n",
              "\n",
              "    [theme=dark] .colab-df-convert {\n",
              "      background-color: #3B4455;\n",
              "      fill: #D2E3FC;\n",
              "    }\n",
              "\n",
              "    [theme=dark] .colab-df-convert:hover {\n",
              "      background-color: #434B5C;\n",
              "      box-shadow: 0px 1px 3px 1px rgba(0, 0, 0, 0.15);\n",
              "      filter: drop-shadow(0px 1px 2px rgba(0, 0, 0, 0.3));\n",
              "      fill: #FFFFFF;\n",
              "    }\n",
              "  </style>\n",
              "\n",
              "      <script>\n",
              "        const buttonEl =\n",
              "          document.querySelector('#df-bbb0a047-c3e5-42a0-9d40-2fd46c664ced button.colab-df-convert');\n",
              "        buttonEl.style.display =\n",
              "          google.colab.kernel.accessAllowed ? 'block' : 'none';\n",
              "\n",
              "        async function convertToInteractive(key) {\n",
              "          const element = document.querySelector('#df-bbb0a047-c3e5-42a0-9d40-2fd46c664ced');\n",
              "          const dataTable =\n",
              "            await google.colab.kernel.invokeFunction('convertToInteractive',\n",
              "                                                     [key], {});\n",
              "          if (!dataTable) return;\n",
              "\n",
              "          const docLinkHtml = 'Like what you see? Visit the ' +\n",
              "            '<a target=\"_blank\" href=https://colab.research.google.com/notebooks/data_table.ipynb>data table notebook</a>'\n",
              "            + ' to learn more about interactive tables.';\n",
              "          element.innerHTML = '';\n",
              "          dataTable['output_type'] = 'display_data';\n",
              "          await google.colab.output.renderOutput(dataTable, element);\n",
              "          const docLink = document.createElement('div');\n",
              "          docLink.innerHTML = docLinkHtml;\n",
              "          element.appendChild(docLink);\n",
              "        }\n",
              "      </script>\n",
              "    </div>\n",
              "  </div>\n",
              "  "
            ]
          },
          "metadata": {},
          "execution_count": 35
        }
      ]
    },
    {
      "cell_type": "code",
      "source": [
        "from sklearn import preprocessing\n",
        "le = preprocessing.LabelEncoder()\n",
        "df['beard']=le.fit_transform(df['beard'])\n",
        "df['hair_length']=le.fit_transform(df['hair_length'])\n",
        "df['scarf']=le.fit_transform(df['scarf'])\n",
        "df['eye_color']=le.fit_transform(df['eye_color'])\n",
        "df['gender']=le.fit_transform(df['gender'])\n",
        "df"
      ],
      "metadata": {
        "colab": {
          "base_uri": "https://localhost:8080/",
          "height": 424
        },
        "id": "CD-qPF5OvvF4",
        "outputId": "483a2dfc-3368-4abf-f25f-764f2ea4ef63"
      },
      "execution_count": 36,
      "outputs": [
        {
          "output_type": "execute_result",
          "data": {
            "text/plain": [
              "    height  weight  beard  hair_length  shoe_size  scarf  eye_color  gender\n",
              "0       71     176      1            3         44      0          0       1\n",
              "1       68     165      0            0         41      0          0       1\n",
              "2       62     132      0            2         37      1          1       0\n",
              "3       65     138      0            1         38      0          3       0\n",
              "4       70     197      1            2         43      0          3       1\n",
              "..     ...     ...    ...          ...        ...    ...        ...     ...\n",
              "75      65      99      0            3         39      1          4       0\n",
              "76      61      98      0            3         37      0          2       0\n",
              "77      67     119      1            3         40      0          0       1\n",
              "78      70     190      1            2         43      0          3       1\n",
              "79      62     142      1            1         37      0          1       0\n",
              "\n",
              "[80 rows x 8 columns]"
            ],
            "text/html": [
              "\n",
              "  <div id=\"df-d11b9c4c-b907-4a45-94ac-00b333a36709\">\n",
              "    <div class=\"colab-df-container\">\n",
              "      <div>\n",
              "<style scoped>\n",
              "    .dataframe tbody tr th:only-of-type {\n",
              "        vertical-align: middle;\n",
              "    }\n",
              "\n",
              "    .dataframe tbody tr th {\n",
              "        vertical-align: top;\n",
              "    }\n",
              "\n",
              "    .dataframe thead th {\n",
              "        text-align: right;\n",
              "    }\n",
              "</style>\n",
              "<table border=\"1\" class=\"dataframe\">\n",
              "  <thead>\n",
              "    <tr style=\"text-align: right;\">\n",
              "      <th></th>\n",
              "      <th>height</th>\n",
              "      <th>weight</th>\n",
              "      <th>beard</th>\n",
              "      <th>hair_length</th>\n",
              "      <th>shoe_size</th>\n",
              "      <th>scarf</th>\n",
              "      <th>eye_color</th>\n",
              "      <th>gender</th>\n",
              "    </tr>\n",
              "  </thead>\n",
              "  <tbody>\n",
              "    <tr>\n",
              "      <th>0</th>\n",
              "      <td>71</td>\n",
              "      <td>176</td>\n",
              "      <td>1</td>\n",
              "      <td>3</td>\n",
              "      <td>44</td>\n",
              "      <td>0</td>\n",
              "      <td>0</td>\n",
              "      <td>1</td>\n",
              "    </tr>\n",
              "    <tr>\n",
              "      <th>1</th>\n",
              "      <td>68</td>\n",
              "      <td>165</td>\n",
              "      <td>0</td>\n",
              "      <td>0</td>\n",
              "      <td>41</td>\n",
              "      <td>0</td>\n",
              "      <td>0</td>\n",
              "      <td>1</td>\n",
              "    </tr>\n",
              "    <tr>\n",
              "      <th>2</th>\n",
              "      <td>62</td>\n",
              "      <td>132</td>\n",
              "      <td>0</td>\n",
              "      <td>2</td>\n",
              "      <td>37</td>\n",
              "      <td>1</td>\n",
              "      <td>1</td>\n",
              "      <td>0</td>\n",
              "    </tr>\n",
              "    <tr>\n",
              "      <th>3</th>\n",
              "      <td>65</td>\n",
              "      <td>138</td>\n",
              "      <td>0</td>\n",
              "      <td>1</td>\n",
              "      <td>38</td>\n",
              "      <td>0</td>\n",
              "      <td>3</td>\n",
              "      <td>0</td>\n",
              "    </tr>\n",
              "    <tr>\n",
              "      <th>4</th>\n",
              "      <td>70</td>\n",
              "      <td>197</td>\n",
              "      <td>1</td>\n",
              "      <td>2</td>\n",
              "      <td>43</td>\n",
              "      <td>0</td>\n",
              "      <td>3</td>\n",
              "      <td>1</td>\n",
              "    </tr>\n",
              "    <tr>\n",
              "      <th>...</th>\n",
              "      <td>...</td>\n",
              "      <td>...</td>\n",
              "      <td>...</td>\n",
              "      <td>...</td>\n",
              "      <td>...</td>\n",
              "      <td>...</td>\n",
              "      <td>...</td>\n",
              "      <td>...</td>\n",
              "    </tr>\n",
              "    <tr>\n",
              "      <th>75</th>\n",
              "      <td>65</td>\n",
              "      <td>99</td>\n",
              "      <td>0</td>\n",
              "      <td>3</td>\n",
              "      <td>39</td>\n",
              "      <td>1</td>\n",
              "      <td>4</td>\n",
              "      <td>0</td>\n",
              "    </tr>\n",
              "    <tr>\n",
              "      <th>76</th>\n",
              "      <td>61</td>\n",
              "      <td>98</td>\n",
              "      <td>0</td>\n",
              "      <td>3</td>\n",
              "      <td>37</td>\n",
              "      <td>0</td>\n",
              "      <td>2</td>\n",
              "      <td>0</td>\n",
              "    </tr>\n",
              "    <tr>\n",
              "      <th>77</th>\n",
              "      <td>67</td>\n",
              "      <td>119</td>\n",
              "      <td>1</td>\n",
              "      <td>3</td>\n",
              "      <td>40</td>\n",
              "      <td>0</td>\n",
              "      <td>0</td>\n",
              "      <td>1</td>\n",
              "    </tr>\n",
              "    <tr>\n",
              "      <th>78</th>\n",
              "      <td>70</td>\n",
              "      <td>190</td>\n",
              "      <td>1</td>\n",
              "      <td>2</td>\n",
              "      <td>43</td>\n",
              "      <td>0</td>\n",
              "      <td>3</td>\n",
              "      <td>1</td>\n",
              "    </tr>\n",
              "    <tr>\n",
              "      <th>79</th>\n",
              "      <td>62</td>\n",
              "      <td>142</td>\n",
              "      <td>1</td>\n",
              "      <td>1</td>\n",
              "      <td>37</td>\n",
              "      <td>0</td>\n",
              "      <td>1</td>\n",
              "      <td>0</td>\n",
              "    </tr>\n",
              "  </tbody>\n",
              "</table>\n",
              "<p>80 rows × 8 columns</p>\n",
              "</div>\n",
              "      <button class=\"colab-df-convert\" onclick=\"convertToInteractive('df-d11b9c4c-b907-4a45-94ac-00b333a36709')\"\n",
              "              title=\"Convert this dataframe to an interactive table.\"\n",
              "              style=\"display:none;\">\n",
              "        \n",
              "  <svg xmlns=\"http://www.w3.org/2000/svg\" height=\"24px\"viewBox=\"0 0 24 24\"\n",
              "       width=\"24px\">\n",
              "    <path d=\"M0 0h24v24H0V0z\" fill=\"none\"/>\n",
              "    <path d=\"M18.56 5.44l.94 2.06.94-2.06 2.06-.94-2.06-.94-.94-2.06-.94 2.06-2.06.94zm-11 1L8.5 8.5l.94-2.06 2.06-.94-2.06-.94L8.5 2.5l-.94 2.06-2.06.94zm10 10l.94 2.06.94-2.06 2.06-.94-2.06-.94-.94-2.06-.94 2.06-2.06.94z\"/><path d=\"M17.41 7.96l-1.37-1.37c-.4-.4-.92-.59-1.43-.59-.52 0-1.04.2-1.43.59L10.3 9.45l-7.72 7.72c-.78.78-.78 2.05 0 2.83L4 21.41c.39.39.9.59 1.41.59.51 0 1.02-.2 1.41-.59l7.78-7.78 2.81-2.81c.8-.78.8-2.07 0-2.86zM5.41 20L4 18.59l7.72-7.72 1.47 1.35L5.41 20z\"/>\n",
              "  </svg>\n",
              "      </button>\n",
              "      \n",
              "  <style>\n",
              "    .colab-df-container {\n",
              "      display:flex;\n",
              "      flex-wrap:wrap;\n",
              "      gap: 12px;\n",
              "    }\n",
              "\n",
              "    .colab-df-convert {\n",
              "      background-color: #E8F0FE;\n",
              "      border: none;\n",
              "      border-radius: 50%;\n",
              "      cursor: pointer;\n",
              "      display: none;\n",
              "      fill: #1967D2;\n",
              "      height: 32px;\n",
              "      padding: 0 0 0 0;\n",
              "      width: 32px;\n",
              "    }\n",
              "\n",
              "    .colab-df-convert:hover {\n",
              "      background-color: #E2EBFA;\n",
              "      box-shadow: 0px 1px 2px rgba(60, 64, 67, 0.3), 0px 1px 3px 1px rgba(60, 64, 67, 0.15);\n",
              "      fill: #174EA6;\n",
              "    }\n",
              "\n",
              "    [theme=dark] .colab-df-convert {\n",
              "      background-color: #3B4455;\n",
              "      fill: #D2E3FC;\n",
              "    }\n",
              "\n",
              "    [theme=dark] .colab-df-convert:hover {\n",
              "      background-color: #434B5C;\n",
              "      box-shadow: 0px 1px 3px 1px rgba(0, 0, 0, 0.15);\n",
              "      filter: drop-shadow(0px 1px 2px rgba(0, 0, 0, 0.3));\n",
              "      fill: #FFFFFF;\n",
              "    }\n",
              "  </style>\n",
              "\n",
              "      <script>\n",
              "        const buttonEl =\n",
              "          document.querySelector('#df-d11b9c4c-b907-4a45-94ac-00b333a36709 button.colab-df-convert');\n",
              "        buttonEl.style.display =\n",
              "          google.colab.kernel.accessAllowed ? 'block' : 'none';\n",
              "\n",
              "        async function convertToInteractive(key) {\n",
              "          const element = document.querySelector('#df-d11b9c4c-b907-4a45-94ac-00b333a36709');\n",
              "          const dataTable =\n",
              "            await google.colab.kernel.invokeFunction('convertToInteractive',\n",
              "                                                     [key], {});\n",
              "          if (!dataTable) return;\n",
              "\n",
              "          const docLinkHtml = 'Like what you see? Visit the ' +\n",
              "            '<a target=\"_blank\" href=https://colab.research.google.com/notebooks/data_table.ipynb>data table notebook</a>'\n",
              "            + ' to learn more about interactive tables.';\n",
              "          element.innerHTML = '';\n",
              "          dataTable['output_type'] = 'display_data';\n",
              "          await google.colab.output.renderOutput(dataTable, element);\n",
              "          const docLink = document.createElement('div');\n",
              "          docLink.innerHTML = docLinkHtml;\n",
              "          element.appendChild(docLink);\n",
              "        }\n",
              "      </script>\n",
              "    </div>\n",
              "  </div>\n",
              "  "
            ]
          },
          "metadata": {},
          "execution_count": 36
        }
      ]
    },
    {
      "cell_type": "code",
      "source": [
        "a = df[['height','weight','beard','hair_length','shoe_size','scarf','eye_color']]\n",
        "b = df['gender']\n",
        "\n",
        "from sklearn.model_selection import train_test_split\n",
        "# X_train, X_test, y_train, y_test = train_test_split(a,b,test_size=0.33,random_state=30)\n",
        "X_train, X_test, y_train, y_test = train_test_split(a,b,test_size=0.20,random_state=30)"
      ],
      "metadata": {
        "id": "mpeHNg9UvvH9"
      },
      "execution_count": 37,
      "outputs": []
    },
    {
      "cell_type": "code",
      "source": [
        "from sklearn.neural_network import MLPClassifier\n",
        "clf = MLPClassifier(hidden_layer_sizes=(4,5),\n",
        "                    random_state=6,\n",
        "                    verbose=True,\n",
        "                    learning_rate_init=0.01)\n",
        "clf.fit(X_train,y_train)"
      ],
      "metadata": {
        "colab": {
          "base_uri": "https://localhost:8080/"
        },
        "id": "58Y2IOJDvvKy",
        "outputId": "5046cf21-9359-4135-e460-e6321834e86a"
      },
      "execution_count": 38,
      "outputs": [
        {
          "output_type": "stream",
          "name": "stdout",
          "text": [
            "Iteration 1, loss = 15.20592422\n",
            "Iteration 2, loss = 15.20592404\n",
            "Iteration 3, loss = 15.20592386\n",
            "Iteration 4, loss = 15.20592369\n",
            "Iteration 5, loss = 15.12377515\n",
            "Iteration 6, loss = 14.19342363\n",
            "Iteration 7, loss = 13.00874085\n",
            "Iteration 8, loss = 11.89058507\n",
            "Iteration 9, loss = 10.83315605\n",
            "Iteration 10, loss = 9.83521245\n",
            "Iteration 11, loss = 8.89525500\n",
            "Iteration 12, loss = 8.01157860\n",
            "Iteration 13, loss = 7.18232354\n",
            "Iteration 14, loss = 6.40548907\n",
            "Iteration 15, loss = 5.67894914\n",
            "Iteration 16, loss = 5.00047356\n",
            "Iteration 17, loss = 4.36777028\n",
            "Iteration 18, loss = 3.77861535\n",
            "Iteration 19, loss = 3.23130921\n",
            "Iteration 20, loss = 2.72616881\n",
            "Iteration 21, loss = 2.26851024\n",
            "Iteration 22, loss = 1.86531870\n",
            "Iteration 23, loss = 1.52302690\n",
            "Iteration 24, loss = 1.25997790\n",
            "Iteration 25, loss = 1.05518547\n",
            "Iteration 26, loss = 0.91373609\n",
            "Iteration 27, loss = 0.82634452\n",
            "Iteration 28, loss = 0.76971166\n",
            "Iteration 29, loss = 0.73442272\n",
            "Iteration 30, loss = 0.71191487\n",
            "Iteration 31, loss = 0.69375685\n",
            "Iteration 32, loss = 0.68944282\n",
            "Iteration 33, loss = 0.68931259\n",
            "Iteration 34, loss = 0.68836226\n",
            "Iteration 35, loss = 0.68746862\n",
            "Iteration 36, loss = 0.68664159\n",
            "Iteration 37, loss = 0.68588592\n",
            "Iteration 38, loss = 0.68520291\n",
            "Iteration 39, loss = 0.68459144\n",
            "Iteration 40, loss = 0.68404871\n",
            "Iteration 41, loss = 0.68357076\n",
            "Iteration 42, loss = 0.68315291\n",
            "Iteration 43, loss = 0.68279006\n",
            "Iteration 44, loss = 0.68247697\n",
            "Iteration 45, loss = 0.68220842\n",
            "Iteration 46, loss = 0.68197940\n",
            "Iteration 47, loss = 0.68178516\n",
            "Iteration 48, loss = 0.68162129\n",
            "Iteration 49, loss = 0.68148377\n",
            "Iteration 50, loss = 0.68136896\n",
            "Iteration 51, loss = 0.68127363\n",
            "Iteration 52, loss = 0.68119492\n",
            "Iteration 53, loss = 0.68113030\n",
            "Iteration 54, loss = 0.68107759\n",
            "Iteration 55, loss = 0.68103489\n",
            "Iteration 56, loss = 0.68100057\n",
            "Iteration 57, loss = 0.68097323\n",
            "Iteration 58, loss = 0.68095168\n",
            "Iteration 59, loss = 0.68093491\n",
            "Iteration 60, loss = 0.68092205\n",
            "Iteration 61, loss = 0.68091240\n",
            "Training loss did not improve more than tol=0.000100 for 10 consecutive epochs. Stopping.\n"
          ]
        },
        {
          "output_type": "execute_result",
          "data": {
            "text/plain": [
              "MLPClassifier(hidden_layer_sizes=(4, 5), learning_rate_init=0.01,\n",
              "              random_state=6, verbose=True)"
            ]
          },
          "metadata": {},
          "execution_count": 38
        }
      ]
    },
    {
      "cell_type": "code",
      "source": [
        "y_pred=clf.predict(X_test)\n",
        "from sklearn.metrics import accuracy_score\n",
        "accuracy_score(y_test,y_pred)"
      ],
      "metadata": {
        "colab": {
          "base_uri": "https://localhost:8080/"
        },
        "id": "7YodRjrXvvNn",
        "outputId": "456c0870-39cd-4c51-c826-d730022b9f5d"
      },
      "execution_count": 39,
      "outputs": [
        {
          "output_type": "execute_result",
          "data": {
            "text/plain": [
              "0.5625"
            ]
          },
          "metadata": {},
          "execution_count": 39
        }
      ]
    },
    {
      "cell_type": "code",
      "source": [
        "from sklearn.metrics import classification_report,confusion_matrix\n",
        "\n",
        "print(confusion_matrix(y_test,y_pred))\n",
        "\n",
        "print(classification_report(y_test,y_pred))\n",
        "# 7 are incorrectly classiffier"
      ],
      "metadata": {
        "colab": {
          "base_uri": "https://localhost:8080/"
        },
        "id": "ItQ7Xx7lxRCr",
        "outputId": "5d599142-b919-4d4c-a66f-11269fb28f92"
      },
      "execution_count": 40,
      "outputs": [
        {
          "output_type": "stream",
          "name": "stdout",
          "text": [
            "[[0 7]\n",
            " [0 9]]\n",
            "              precision    recall  f1-score   support\n",
            "\n",
            "           0       0.00      0.00      0.00         7\n",
            "           1       0.56      1.00      0.72         9\n",
            "\n",
            "    accuracy                           0.56        16\n",
            "   macro avg       0.28      0.50      0.36        16\n",
            "weighted avg       0.32      0.56      0.40        16\n",
            "\n"
          ]
        }
      ]
    },
    {
      "cell_type": "code",
      "source": [
        "from sklearn.ensemble import RandomForestClassifier\n",
        "\n",
        "rf_clf=RandomForestClassifier(n_estimators=100)\n",
        "\n",
        "rf_clf.fit(X_train,y_train)\n",
        "\n",
        "random_y_pred=rf_clf.predict(X_test)\n",
        "\n",
        "from sklearn.metrics import classification_report,confusion_matrix\n",
        "\n",
        "print(confusion_matrix(y_test,random_y_pred))\n",
        "\n",
        "print(classification_report(y_test,random_y_pred))\n",
        "# 0  are incorrectly classified"
      ],
      "metadata": {
        "colab": {
          "base_uri": "https://localhost:8080/"
        },
        "id": "PcKzK9MCxREW",
        "outputId": "a2c13869-6d24-41df-c176-01813d7ccad9"
      },
      "execution_count": 41,
      "outputs": [
        {
          "output_type": "stream",
          "name": "stdout",
          "text": [
            "[[7 0]\n",
            " [0 9]]\n",
            "              precision    recall  f1-score   support\n",
            "\n",
            "           0       1.00      1.00      1.00         7\n",
            "           1       1.00      1.00      1.00         9\n",
            "\n",
            "    accuracy                           1.00        16\n",
            "   macro avg       1.00      1.00      1.00        16\n",
            "weighted avg       1.00      1.00      1.00        16\n",
            "\n"
          ]
        }
      ]
    },
    {
      "cell_type": "code",
      "source": [
        "from sklearn import svm\n",
        "svm_clf = svm.SVC(kernel='linear') # Linear Kernel\n",
        "svm_clf.fit(X_train, y_train)\n",
        "svm_pred = svm_clf.predict(X_test)\n",
        "\n",
        "from sklearn.metrics import classification_report,confusion_matrix\n",
        "\n",
        "print(confusion_matrix(y_test,svm_pred))\n",
        "\n",
        "print(classification_report(y_test,svm_pred))\n",
        "# 1 instance in incorrectly classifies"
      ],
      "metadata": {
        "colab": {
          "base_uri": "https://localhost:8080/"
        },
        "id": "2WwOUegmxRH1",
        "outputId": "407d929f-7376-49b5-dc1a-70e032674423"
      },
      "execution_count": 42,
      "outputs": [
        {
          "output_type": "stream",
          "name": "stdout",
          "text": [
            "[[7 0]\n",
            " [1 8]]\n",
            "              precision    recall  f1-score   support\n",
            "\n",
            "           0       0.88      1.00      0.93         7\n",
            "           1       1.00      0.89      0.94         9\n",
            "\n",
            "    accuracy                           0.94        16\n",
            "   macro avg       0.94      0.94      0.94        16\n",
            "weighted avg       0.95      0.94      0.94        16\n",
            "\n"
          ]
        }
      ]
    },
    {
      "cell_type": "code",
      "source": [
        "df2=df.drop('hair_length', axis = 'columns', inplace = True)\n",
        "df2=df.drop('beard', axis = 'columns', inplace = True)\n",
        "print(df2)"
      ],
      "metadata": {
        "colab": {
          "base_uri": "https://localhost:8080/"
        },
        "id": "dHwqOZy-xuh2",
        "outputId": "8e1579f3-7577-47a3-a2cb-fe0505277341"
      },
      "execution_count": 44,
      "outputs": [
        {
          "output_type": "stream",
          "name": "stdout",
          "text": [
            "None\n"
          ]
        }
      ]
    },
    {
      "cell_type": "code",
      "source": [
        "df2"
      ],
      "metadata": {
        "id": "9djyBfGI4bO1"
      },
      "execution_count": 17,
      "outputs": []
    },
    {
      "cell_type": "code",
      "source": [
        "x = df[['height','weight','shoe_size','scarf','eye_color']]\n",
        "y = df['gender']\n",
        "\n",
        "from sklearn.model_selection import train_test_split\n",
        "X_train, X_test, y_train, y_test = train_test_split(x,y,test_size=0.20,random_state=42)"
      ],
      "metadata": {
        "id": "O-sRk2j6xukx"
      },
      "execution_count": 45,
      "outputs": []
    },
    {
      "cell_type": "code",
      "source": [
        "from sklearn.neural_network import MLPClassifier\n",
        "clf = MLPClassifier(hidden_layer_sizes=(6,5),\n",
        "                    random_state=5,\n",
        "                    verbose=True,\n",
        "                    learning_rate_init=0.01)\n",
        "\n",
        "\n",
        "clf.fit(X_train,y_train)\n",
        "\n",
        "ypred=clf.predict(X_test)\n",
        "from sklearn.metrics import accuracy_score\n",
        "accuracy_score(y_test,ypred)\n",
        "\n",
        "from sklearn.metrics import classification_report,confusion_matrix\n",
        "\n",
        "print(confusion_matrix(y_test,ypred))\n",
        "\n",
        "print(classification_report(y_test,ypred))"
      ],
      "metadata": {
        "colab": {
          "base_uri": "https://localhost:8080/"
        },
        "id": "syRSYyhGyMsu",
        "outputId": "e591ec4e-6386-4303-e6a5-0a4aa1941da0"
      },
      "execution_count": 46,
      "outputs": [
        {
          "output_type": "stream",
          "name": "stdout",
          "text": [
            "Iteration 1, loss = 15.21682543\n",
            "Iteration 2, loss = 9.23965363\n",
            "Iteration 3, loss = 3.99112312\n",
            "Iteration 4, loss = 0.93888612\n",
            "Iteration 5, loss = 0.87292311\n",
            "Iteration 6, loss = 1.77819990\n",
            "Iteration 7, loss = 2.58260177\n",
            "Iteration 8, loss = 3.10461695\n",
            "Iteration 9, loss = 3.36030291\n",
            "Iteration 10, loss = 3.39456565\n",
            "Iteration 11, loss = 3.24856441\n",
            "Iteration 12, loss = 2.95724654\n",
            "Iteration 13, loss = 2.55315290\n",
            "Iteration 14, loss = 2.07348279\n",
            "Iteration 15, loss = 1.56704886\n",
            "Iteration 16, loss = 1.09449087\n",
            "Training loss did not improve more than tol=0.000100 for 10 consecutive epochs. Stopping.\n",
            "[[5 2]\n",
            " [2 7]]\n",
            "              precision    recall  f1-score   support\n",
            "\n",
            "           0       0.71      0.71      0.71         7\n",
            "           1       0.78      0.78      0.78         9\n",
            "\n",
            "    accuracy                           0.75        16\n",
            "   macro avg       0.75      0.75      0.75        16\n",
            "weighted avg       0.75      0.75      0.75        16\n",
            "\n"
          ]
        }
      ]
    },
    {
      "cell_type": "code",
      "source": [
        "from sklearn.ensemble import RandomForestClassifier\n",
        "rf_clf=RandomForestClassifier(n_estimators=100)\n",
        "rf_clf.fit(X_train,y_train)\n",
        "\n",
        "random_y_pred=rf_clf.predict(X_test)\n",
        "\n",
        "from sklearn.metrics import classification_report,confusion_matrix\n",
        "\n",
        "print(confusion_matrix(y_test,random_y_pred))\n",
        "\n",
        "print(classification_report(y_test,random_y_pred))\n",
        "#1 instance in incorrectly classified"
      ],
      "metadata": {
        "colab": {
          "base_uri": "https://localhost:8080/"
        },
        "id": "_CVVSyZ0yMuf",
        "outputId": "bba5e586-98a6-466c-e275-c4de8755da2b"
      },
      "execution_count": 48,
      "outputs": [
        {
          "output_type": "stream",
          "name": "stdout",
          "text": [
            "[[6 1]\n",
            " [0 9]]\n",
            "              precision    recall  f1-score   support\n",
            "\n",
            "           0       1.00      0.86      0.92         7\n",
            "           1       0.90      1.00      0.95         9\n",
            "\n",
            "    accuracy                           0.94        16\n",
            "   macro avg       0.95      0.93      0.94        16\n",
            "weighted avg       0.94      0.94      0.94        16\n",
            "\n"
          ]
        }
      ]
    },
    {
      "cell_type": "code",
      "source": [
        "from sklearn import svm\n",
        "svm_clf = svm.SVC(kernel='linear') # Linear Kernel\n",
        "svm_clf.fit(X_train, y_train)\n",
        "svm_pred = svm_clf.predict(X_test)\n",
        "\n",
        "from sklearn.metrics import classification_report,confusion_matrix\n",
        "\n",
        "print(confusion_matrix(y_test,svm_pred))\n",
        "\n",
        "print(classification_report(y_test,svm_pred))"
      ],
      "metadata": {
        "colab": {
          "base_uri": "https://localhost:8080/"
        },
        "id": "OMimiHqNyMxf",
        "outputId": "bf061f5b-07fb-4eb8-8f52-eaaf00a0e893"
      },
      "execution_count": 49,
      "outputs": [
        {
          "output_type": "stream",
          "name": "stdout",
          "text": [
            "[[7 0]\n",
            " [0 9]]\n",
            "              precision    recall  f1-score   support\n",
            "\n",
            "           0       1.00      1.00      1.00         7\n",
            "           1       1.00      1.00      1.00         9\n",
            "\n",
            "    accuracy                           1.00        16\n",
            "   macro avg       1.00      1.00      1.00        16\n",
            "weighted avg       1.00      1.00      1.00        16\n",
            "\n"
          ]
        }
      ]
    },
    {
      "cell_type": "code",
      "source": [
        "df3 = pd.read_csv('/content/drive/My Drive/G-prediction.csv')\n"
      ],
      "metadata": {
        "id": "iuqDdyg0ygiG"
      },
      "execution_count": 50,
      "outputs": []
    },
    {
      "cell_type": "code",
      "source": [
        "from sklearn import preprocessing\n",
        "le = preprocessing.LabelEncoder()\n",
        "df3['beard']=le.fit_transform(df3['beard'])\n",
        "df3['hair_length']=le.fit_transform(df3['hair_length'])\n",
        "df3['scarf']=le.fit_transform(df3['scarf'])\n",
        "df3['eye_color']=le.fit_transform(df3['eye_color'])\n",
        "df3['gender']=le.fit_transform(df3['gender'])\n",
        "df3\n",
        "\n",
        "x = df3[['height','weight','beard','hair_length','shoe_size','scarf','eye_color']]\n",
        "y = df3['gender']\n",
        "from sklearn.model_selection import train_test_split\n",
        "X_train, X_test, y_train, y_test = train_test_split(x,y,test_size=0.20,random_state=42)\n",
        "\n",
        "\n",
        "\n",
        "df3"
      ],
      "metadata": {
        "colab": {
          "base_uri": "https://localhost:8080/",
          "height": 424
        },
        "id": "uzUQ5jepyglD",
        "outputId": "6244ff24-e6da-4763-b836-5818c979edeb"
      },
      "execution_count": 51,
      "outputs": [
        {
          "output_type": "execute_result",
          "data": {
            "text/plain": [
              "    height  weight  beard  hair_length  shoe_size  scarf  eye_color  gender\n",
              "0       71     176      1            3         44      0          0       1\n",
              "1       68     165      0            0         41      0          0       1\n",
              "2       62     132      0            2         37      1          1       0\n",
              "3       65     138      0            1         38      0          3       0\n",
              "4       70     197      1            2         43      0          3       1\n",
              "..     ...     ...    ...          ...        ...    ...        ...     ...\n",
              "75      65      99      0            3         39      1          4       0\n",
              "76      61      98      0            3         37      0          2       0\n",
              "77      67     119      1            3         40      0          0       1\n",
              "78      70     190      1            2         43      0          3       1\n",
              "79      62     142      1            1         37      0          1       0\n",
              "\n",
              "[80 rows x 8 columns]"
            ],
            "text/html": [
              "\n",
              "  <div id=\"df-098c8e19-392d-4d74-95df-92015082491e\">\n",
              "    <div class=\"colab-df-container\">\n",
              "      <div>\n",
              "<style scoped>\n",
              "    .dataframe tbody tr th:only-of-type {\n",
              "        vertical-align: middle;\n",
              "    }\n",
              "\n",
              "    .dataframe tbody tr th {\n",
              "        vertical-align: top;\n",
              "    }\n",
              "\n",
              "    .dataframe thead th {\n",
              "        text-align: right;\n",
              "    }\n",
              "</style>\n",
              "<table border=\"1\" class=\"dataframe\">\n",
              "  <thead>\n",
              "    <tr style=\"text-align: right;\">\n",
              "      <th></th>\n",
              "      <th>height</th>\n",
              "      <th>weight</th>\n",
              "      <th>beard</th>\n",
              "      <th>hair_length</th>\n",
              "      <th>shoe_size</th>\n",
              "      <th>scarf</th>\n",
              "      <th>eye_color</th>\n",
              "      <th>gender</th>\n",
              "    </tr>\n",
              "  </thead>\n",
              "  <tbody>\n",
              "    <tr>\n",
              "      <th>0</th>\n",
              "      <td>71</td>\n",
              "      <td>176</td>\n",
              "      <td>1</td>\n",
              "      <td>3</td>\n",
              "      <td>44</td>\n",
              "      <td>0</td>\n",
              "      <td>0</td>\n",
              "      <td>1</td>\n",
              "    </tr>\n",
              "    <tr>\n",
              "      <th>1</th>\n",
              "      <td>68</td>\n",
              "      <td>165</td>\n",
              "      <td>0</td>\n",
              "      <td>0</td>\n",
              "      <td>41</td>\n",
              "      <td>0</td>\n",
              "      <td>0</td>\n",
              "      <td>1</td>\n",
              "    </tr>\n",
              "    <tr>\n",
              "      <th>2</th>\n",
              "      <td>62</td>\n",
              "      <td>132</td>\n",
              "      <td>0</td>\n",
              "      <td>2</td>\n",
              "      <td>37</td>\n",
              "      <td>1</td>\n",
              "      <td>1</td>\n",
              "      <td>0</td>\n",
              "    </tr>\n",
              "    <tr>\n",
              "      <th>3</th>\n",
              "      <td>65</td>\n",
              "      <td>138</td>\n",
              "      <td>0</td>\n",
              "      <td>1</td>\n",
              "      <td>38</td>\n",
              "      <td>0</td>\n",
              "      <td>3</td>\n",
              "      <td>0</td>\n",
              "    </tr>\n",
              "    <tr>\n",
              "      <th>4</th>\n",
              "      <td>70</td>\n",
              "      <td>197</td>\n",
              "      <td>1</td>\n",
              "      <td>2</td>\n",
              "      <td>43</td>\n",
              "      <td>0</td>\n",
              "      <td>3</td>\n",
              "      <td>1</td>\n",
              "    </tr>\n",
              "    <tr>\n",
              "      <th>...</th>\n",
              "      <td>...</td>\n",
              "      <td>...</td>\n",
              "      <td>...</td>\n",
              "      <td>...</td>\n",
              "      <td>...</td>\n",
              "      <td>...</td>\n",
              "      <td>...</td>\n",
              "      <td>...</td>\n",
              "    </tr>\n",
              "    <tr>\n",
              "      <th>75</th>\n",
              "      <td>65</td>\n",
              "      <td>99</td>\n",
              "      <td>0</td>\n",
              "      <td>3</td>\n",
              "      <td>39</td>\n",
              "      <td>1</td>\n",
              "      <td>4</td>\n",
              "      <td>0</td>\n",
              "    </tr>\n",
              "    <tr>\n",
              "      <th>76</th>\n",
              "      <td>61</td>\n",
              "      <td>98</td>\n",
              "      <td>0</td>\n",
              "      <td>3</td>\n",
              "      <td>37</td>\n",
              "      <td>0</td>\n",
              "      <td>2</td>\n",
              "      <td>0</td>\n",
              "    </tr>\n",
              "    <tr>\n",
              "      <th>77</th>\n",
              "      <td>67</td>\n",
              "      <td>119</td>\n",
              "      <td>1</td>\n",
              "      <td>3</td>\n",
              "      <td>40</td>\n",
              "      <td>0</td>\n",
              "      <td>0</td>\n",
              "      <td>1</td>\n",
              "    </tr>\n",
              "    <tr>\n",
              "      <th>78</th>\n",
              "      <td>70</td>\n",
              "      <td>190</td>\n",
              "      <td>1</td>\n",
              "      <td>2</td>\n",
              "      <td>43</td>\n",
              "      <td>0</td>\n",
              "      <td>3</td>\n",
              "      <td>1</td>\n",
              "    </tr>\n",
              "    <tr>\n",
              "      <th>79</th>\n",
              "      <td>62</td>\n",
              "      <td>142</td>\n",
              "      <td>1</td>\n",
              "      <td>1</td>\n",
              "      <td>37</td>\n",
              "      <td>0</td>\n",
              "      <td>1</td>\n",
              "      <td>0</td>\n",
              "    </tr>\n",
              "  </tbody>\n",
              "</table>\n",
              "<p>80 rows × 8 columns</p>\n",
              "</div>\n",
              "      <button class=\"colab-df-convert\" onclick=\"convertToInteractive('df-098c8e19-392d-4d74-95df-92015082491e')\"\n",
              "              title=\"Convert this dataframe to an interactive table.\"\n",
              "              style=\"display:none;\">\n",
              "        \n",
              "  <svg xmlns=\"http://www.w3.org/2000/svg\" height=\"24px\"viewBox=\"0 0 24 24\"\n",
              "       width=\"24px\">\n",
              "    <path d=\"M0 0h24v24H0V0z\" fill=\"none\"/>\n",
              "    <path d=\"M18.56 5.44l.94 2.06.94-2.06 2.06-.94-2.06-.94-.94-2.06-.94 2.06-2.06.94zm-11 1L8.5 8.5l.94-2.06 2.06-.94-2.06-.94L8.5 2.5l-.94 2.06-2.06.94zm10 10l.94 2.06.94-2.06 2.06-.94-2.06-.94-.94-2.06-.94 2.06-2.06.94z\"/><path d=\"M17.41 7.96l-1.37-1.37c-.4-.4-.92-.59-1.43-.59-.52 0-1.04.2-1.43.59L10.3 9.45l-7.72 7.72c-.78.78-.78 2.05 0 2.83L4 21.41c.39.39.9.59 1.41.59.51 0 1.02-.2 1.41-.59l7.78-7.78 2.81-2.81c.8-.78.8-2.07 0-2.86zM5.41 20L4 18.59l7.72-7.72 1.47 1.35L5.41 20z\"/>\n",
              "  </svg>\n",
              "      </button>\n",
              "      \n",
              "  <style>\n",
              "    .colab-df-container {\n",
              "      display:flex;\n",
              "      flex-wrap:wrap;\n",
              "      gap: 12px;\n",
              "    }\n",
              "\n",
              "    .colab-df-convert {\n",
              "      background-color: #E8F0FE;\n",
              "      border: none;\n",
              "      border-radius: 50%;\n",
              "      cursor: pointer;\n",
              "      display: none;\n",
              "      fill: #1967D2;\n",
              "      height: 32px;\n",
              "      padding: 0 0 0 0;\n",
              "      width: 32px;\n",
              "    }\n",
              "\n",
              "    .colab-df-convert:hover {\n",
              "      background-color: #E2EBFA;\n",
              "      box-shadow: 0px 1px 2px rgba(60, 64, 67, 0.3), 0px 1px 3px 1px rgba(60, 64, 67, 0.15);\n",
              "      fill: #174EA6;\n",
              "    }\n",
              "\n",
              "    [theme=dark] .colab-df-convert {\n",
              "      background-color: #3B4455;\n",
              "      fill: #D2E3FC;\n",
              "    }\n",
              "\n",
              "    [theme=dark] .colab-df-convert:hover {\n",
              "      background-color: #434B5C;\n",
              "      box-shadow: 0px 1px 3px 1px rgba(0, 0, 0, 0.15);\n",
              "      filter: drop-shadow(0px 1px 2px rgba(0, 0, 0, 0.3));\n",
              "      fill: #FFFFFF;\n",
              "    }\n",
              "  </style>\n",
              "\n",
              "      <script>\n",
              "        const buttonEl =\n",
              "          document.querySelector('#df-098c8e19-392d-4d74-95df-92015082491e button.colab-df-convert');\n",
              "        buttonEl.style.display =\n",
              "          google.colab.kernel.accessAllowed ? 'block' : 'none';\n",
              "\n",
              "        async function convertToInteractive(key) {\n",
              "          const element = document.querySelector('#df-098c8e19-392d-4d74-95df-92015082491e');\n",
              "          const dataTable =\n",
              "            await google.colab.kernel.invokeFunction('convertToInteractive',\n",
              "                                                     [key], {});\n",
              "          if (!dataTable) return;\n",
              "\n",
              "          const docLinkHtml = 'Like what you see? Visit the ' +\n",
              "            '<a target=\"_blank\" href=https://colab.research.google.com/notebooks/data_table.ipynb>data table notebook</a>'\n",
              "            + ' to learn more about interactive tables.';\n",
              "          element.innerHTML = '';\n",
              "          dataTable['output_type'] = 'display_data';\n",
              "          await google.colab.output.renderOutput(dataTable, element);\n",
              "          const docLink = document.createElement('div');\n",
              "          docLink.innerHTML = docLinkHtml;\n",
              "          element.appendChild(docLink);\n",
              "        }\n",
              "      </script>\n",
              "    </div>\n",
              "  </div>\n",
              "  "
            ]
          },
          "metadata": {},
          "execution_count": 51
        }
      ]
    },
    {
      "cell_type": "code",
      "source": [
        "from sklearn.model_selection import ShuffleSplit,cross_val_score\n",
        "from sklearn.tree import DecisionTreeClassifier\n",
        "\n",
        "dt=DecisionTreeClassifier()\n",
        "shuffle_split=ShuffleSplit(test_size=0.3,train_size=0.5,n_splits=10)\n",
        "\n",
        "scores=cross_val_score(dt,x,y,scoring=\"f1\",cv=shuffle_split)\n",
        "\n",
        "print(\"cross Validation scores:n {}\".format(scores))\n",
        "print(\"Average Cross Validation score :{}\".format(scores.mean()))\n",
        "\n"
      ],
      "metadata": {
        "colab": {
          "base_uri": "https://localhost:8080/"
        },
        "id": "a892K25GzaXE",
        "outputId": "64acc012-fd1e-4dca-dc3a-72285ed72645"
      },
      "execution_count": 52,
      "outputs": [
        {
          "output_type": "stream",
          "name": "stdout",
          "text": [
            "cross Validation scores:n [0.9375     0.95652174 0.73684211 0.96296296 0.96551724 0.96774194\n",
            " 0.93333333 0.90322581 0.93333333 0.9375    ]\n",
            "Average Cross Validation score :0.9234478457338018\n"
          ]
        }
      ]
    },
    {
      "cell_type": "code",
      "source": [
        "from sklearn.model_selection import LeavePOut,cross_val_score\n",
        "from sklearn.tree import DecisionTreeClassifier\n",
        "\n",
        "import warnings\n",
        "warnings.filterwarnings('ignore')\n",
        "\n",
        "lpo=LeavePOut(p=2)\n",
        "lpo.get_n_splits(x)\n",
        "tree=DecisionTreeClassifier(max_depth=5)\n",
        "score=cross_val_score(tree,x,y,scoring=\"f1\",cv=lpo)\n",
        "print(\"Cross Validation Scores are {}\".format(score))\n",
        "print(\"Average Cross Validation score :{}\".format(score.mean()))"
      ],
      "metadata": {
        "colab": {
          "base_uri": "https://localhost:8080/"
        },
        "id": "xqTzjr9VzaZI",
        "outputId": "a59572f3-613a-4b03-d011-e7530a62bd63"
      },
      "execution_count": 53,
      "outputs": [
        {
          "output_type": "stream",
          "name": "stdout",
          "text": [
            "Cross Validation Scores are [1.         1.         1.         ... 1.         0.66666667 0.66666667]\n",
            "Average Cross Validation score :0.77542194092827\n"
          ]
        }
      ]
    },
    {
      "cell_type": "code",
      "source": [
        "\n",
        "df_new_rows = pd.DataFrame(df3)\n",
        "\n",
        "\n",
        "new_row = [{'height':80,'weight':72,'beard':1,'hair_length':3,'shoe_size':42,\"scarf\":0,'eye_color':1,'gender':1},#Subhan Khan\n",
        "           {'height':78,'weight':132,'beard':1,'hair_length':1,'shoe_size':42,\"scarf\":0,'eye_color':2,'gender':1},#Hamaad Zafar\n",
        "           {'height':81,'weight':140,'beard':0,'hair_length':1,'shoe_size':40,\"scarf\":0,'eye_color':1,'gender':1},#Sundar\n",
        "           {'height':84,'weight':100,'beard':0,'hair_length':2,'shoe_size':42,\"scarf\":0,'eye_color':1,'gender':1},#Humail\n",
        "           {'height':82,'weight':95,'beard':1,'hair_length':2,'shoe_size':40,\"scarf\":0,'eye_color':3,'gender':1}]#Azam            \n",
        "df_new_rows = df_new_rows.append(new_row, ignore_index=True)\n",
        "\n",
        "print('\\n\\nNew row added to DataFrame\\n--------------------------')\n",
        "print(df_new_rows)"
      ],
      "metadata": {
        "colab": {
          "base_uri": "https://localhost:8080/"
        },
        "id": "XXDhjBGezab_",
        "outputId": "5a3aaf89-b5fa-4d5c-e37b-08476a30953d"
      },
      "execution_count": 55,
      "outputs": [
        {
          "output_type": "stream",
          "name": "stdout",
          "text": [
            "\n",
            "\n",
            "New row added to DataFrame\n",
            "--------------------------\n",
            "    height  weight  beard  hair_length  shoe_size  scarf  eye_color  gender\n",
            "0       71     176      1            3         44      0          0       1\n",
            "1       68     165      0            0         41      0          0       1\n",
            "2       62     132      0            2         37      1          1       0\n",
            "3       65     138      0            1         38      0          3       0\n",
            "4       70     197      1            2         43      0          3       1\n",
            "..     ...     ...    ...          ...        ...    ...        ...     ...\n",
            "80      80      72      1            3         42      0          1       1\n",
            "81      78     132      1            1         42      0          2       1\n",
            "82      81     140      0            1         40      0          1       1\n",
            "83      84     100      0            2         42      0          1       1\n",
            "84      82      95      1            2         40      0          3       1\n",
            "\n",
            "[85 rows x 8 columns]\n"
          ]
        }
      ]
    },
    {
      "cell_type": "code",
      "source": [
        "a = df_new_rows[['height','weight','beard','hair_length','shoe_size','scarf','eye_color']]\n",
        "b = df_new_rows['gender']\n",
        "from sklearn.model_selection import train_test_split\n",
        "X_train, X_test, y_train, y_test = train_test_split(a,b,test_size=0.20,random_state=42)"
      ],
      "metadata": {
        "id": "pm0waQIpzaeF"
      },
      "execution_count": 56,
      "outputs": []
    },
    {
      "cell_type": "code",
      "source": [
        "from sklearn.naive_bayes import GaussianNB\n",
        "nbclassifier = GaussianNB()\n",
        "nbclassifier.fit(X_train,y_train)\n",
        "\n",
        "Y_predicts= nbclassifier.predict(X_test)\n",
        "Y_predicts\n",
        "\n",
        "from sklearn.metrics import classification_report,confusion_matrix\n",
        "print(confusion_matrix(y_test,Y_predicts))\n",
        "\n",
        "print(classification_report(y_test,Y_predicts))"
      ],
      "metadata": {
        "colab": {
          "base_uri": "https://localhost:8080/"
        },
        "id": "TS_zHJCizahL",
        "outputId": "ed6367ad-747e-4d16-b9c8-a19349afe487"
      },
      "execution_count": 57,
      "outputs": [
        {
          "output_type": "stream",
          "name": "stdout",
          "text": [
            "[[ 6  1]\n",
            " [ 0 10]]\n",
            "              precision    recall  f1-score   support\n",
            "\n",
            "           0       1.00      0.86      0.92         7\n",
            "           1       0.91      1.00      0.95        10\n",
            "\n",
            "    accuracy                           0.94        17\n",
            "   macro avg       0.95      0.93      0.94        17\n",
            "weighted avg       0.95      0.94      0.94        17\n",
            "\n"
          ]
        }
      ]
    },
    {
      "cell_type": "code",
      "source": [],
      "metadata": {
        "id": "9Z_NKgLhyM0d"
      },
      "execution_count": null,
      "outputs": []
    }
  ]
}